{
  "nbformat": 4,
  "nbformat_minor": 0,
  "metadata": {
    "colab": {
      "provenance": []
    },
    "kernelspec": {
      "name": "python3",
      "display_name": "Python 3"
    },
    "language_info": {
      "name": "python"
    }
  },
  "cells": [
    {
      "cell_type": "markdown",
      "source": [
        "# **Importing required modules**"
      ],
      "metadata": {
        "id": "7ZwO5qV87ySm"
      }
    },
    {
      "cell_type": "code",
      "source": [
        "import pandas as pd\n",
        "import numpy as np\n",
        "import matplotlib.pyplot as plt\n",
        "import seaborn as sns"
      ],
      "metadata": {
        "id": "3mMO_UHI73UF"
      },
      "execution_count": 2,
      "outputs": []
    },
    {
      "cell_type": "code",
      "execution_count": 3,
      "metadata": {
        "id": "ffHlRa3V7eY5"
      },
      "outputs": [],
      "source": [
        "banana=pd.read_csv(\"/content/banana_quality_dataset.csv\")"
      ]
    },
    {
      "cell_type": "code",
      "source": [
        "banana.shape"
      ],
      "metadata": {
        "colab": {
          "base_uri": "https://localhost:8080/"
        },
        "id": "hpkj3RO38hTh",
        "outputId": "d109dd96-bc60-471c-826a-e07844edd482"
      },
      "execution_count": 4,
      "outputs": [
        {
          "output_type": "execute_result",
          "data": {
            "text/plain": [
              "(1000, 16)"
            ]
          },
          "metadata": {},
          "execution_count": 4
        }
      ]
    },
    {
      "cell_type": "code",
      "source": [
        "banana.head()"
      ],
      "metadata": {
        "colab": {
          "base_uri": "https://localhost:8080/",
          "height": 243
        },
        "id": "HhE30SDMFIoz",
        "outputId": "ba14ee35-b9b2-4879-91b8-1b02f346efdc"
      },
      "execution_count": 5,
      "outputs": [
        {
          "output_type": "execute_result",
          "data": {
            "text/plain": [
              "   sample_id    variety     region  quality_score quality_category  \\\n",
              "0          1    Manzano   Colombia           1.88       Processing   \n",
              "1          2   Plantain  Guatemala           2.42       Processing   \n",
              "2          3      Burro    Ecuador           3.57          Premium   \n",
              "3          4    Manzano    Ecuador           2.21       Processing   \n",
              "4          5  Red Dacca    Ecuador           2.35       Processing   \n",
              "\n",
              "   ripeness_index ripeness_category  sugar_content_brix  firmness_kgf  \\\n",
              "0            2.11           Turning               16.83          3.53   \n",
              "1            4.25              Ripe               16.73          4.09   \n",
              "2            6.24          Overripe               21.34          1.63   \n",
              "3            5.39              Ripe               16.75          3.31   \n",
              "4            5.84              Ripe               16.90          3.07   \n",
              "\n",
              "   length_cm  weight_g harvest_date  tree_age_years  altitude_m  rainfall_mm  \\\n",
              "0      21.44    146.92   2023-10-16            13.7        58.2       2440.5   \n",
              "1      26.11    160.48   2023-10-14             5.1       280.2       2374.6   \n",
              "2      25.20    225.27   2023-09-08            17.7      1246.9       1191.5   \n",
              "3      13.08    137.80   2023-10-07            13.0      1150.2       2845.1   \n",
              "4      12.98    227.84   2023-10-02             4.8       526.0       2136.9   \n",
              "\n",
              "   soil_nitrogen_ppm  \n",
              "0              183.6  \n",
              "1              109.8  \n",
              "2              147.7  \n",
              "3               92.8  \n",
              "4              129.7  "
            ],
            "text/html": [
              "\n",
              "  <div id=\"df-156e28f3-b93c-445e-b163-daed2516fafa\" class=\"colab-df-container\">\n",
              "    <div>\n",
              "<style scoped>\n",
              "    .dataframe tbody tr th:only-of-type {\n",
              "        vertical-align: middle;\n",
              "    }\n",
              "\n",
              "    .dataframe tbody tr th {\n",
              "        vertical-align: top;\n",
              "    }\n",
              "\n",
              "    .dataframe thead th {\n",
              "        text-align: right;\n",
              "    }\n",
              "</style>\n",
              "<table border=\"1\" class=\"dataframe\">\n",
              "  <thead>\n",
              "    <tr style=\"text-align: right;\">\n",
              "      <th></th>\n",
              "      <th>sample_id</th>\n",
              "      <th>variety</th>\n",
              "      <th>region</th>\n",
              "      <th>quality_score</th>\n",
              "      <th>quality_category</th>\n",
              "      <th>ripeness_index</th>\n",
              "      <th>ripeness_category</th>\n",
              "      <th>sugar_content_brix</th>\n",
              "      <th>firmness_kgf</th>\n",
              "      <th>length_cm</th>\n",
              "      <th>weight_g</th>\n",
              "      <th>harvest_date</th>\n",
              "      <th>tree_age_years</th>\n",
              "      <th>altitude_m</th>\n",
              "      <th>rainfall_mm</th>\n",
              "      <th>soil_nitrogen_ppm</th>\n",
              "    </tr>\n",
              "  </thead>\n",
              "  <tbody>\n",
              "    <tr>\n",
              "      <th>0</th>\n",
              "      <td>1</td>\n",
              "      <td>Manzano</td>\n",
              "      <td>Colombia</td>\n",
              "      <td>1.88</td>\n",
              "      <td>Processing</td>\n",
              "      <td>2.11</td>\n",
              "      <td>Turning</td>\n",
              "      <td>16.83</td>\n",
              "      <td>3.53</td>\n",
              "      <td>21.44</td>\n",
              "      <td>146.92</td>\n",
              "      <td>2023-10-16</td>\n",
              "      <td>13.7</td>\n",
              "      <td>58.2</td>\n",
              "      <td>2440.5</td>\n",
              "      <td>183.6</td>\n",
              "    </tr>\n",
              "    <tr>\n",
              "      <th>1</th>\n",
              "      <td>2</td>\n",
              "      <td>Plantain</td>\n",
              "      <td>Guatemala</td>\n",
              "      <td>2.42</td>\n",
              "      <td>Processing</td>\n",
              "      <td>4.25</td>\n",
              "      <td>Ripe</td>\n",
              "      <td>16.73</td>\n",
              "      <td>4.09</td>\n",
              "      <td>26.11</td>\n",
              "      <td>160.48</td>\n",
              "      <td>2023-10-14</td>\n",
              "      <td>5.1</td>\n",
              "      <td>280.2</td>\n",
              "      <td>2374.6</td>\n",
              "      <td>109.8</td>\n",
              "    </tr>\n",
              "    <tr>\n",
              "      <th>2</th>\n",
              "      <td>3</td>\n",
              "      <td>Burro</td>\n",
              "      <td>Ecuador</td>\n",
              "      <td>3.57</td>\n",
              "      <td>Premium</td>\n",
              "      <td>6.24</td>\n",
              "      <td>Overripe</td>\n",
              "      <td>21.34</td>\n",
              "      <td>1.63</td>\n",
              "      <td>25.20</td>\n",
              "      <td>225.27</td>\n",
              "      <td>2023-09-08</td>\n",
              "      <td>17.7</td>\n",
              "      <td>1246.9</td>\n",
              "      <td>1191.5</td>\n",
              "      <td>147.7</td>\n",
              "    </tr>\n",
              "    <tr>\n",
              "      <th>3</th>\n",
              "      <td>4</td>\n",
              "      <td>Manzano</td>\n",
              "      <td>Ecuador</td>\n",
              "      <td>2.21</td>\n",
              "      <td>Processing</td>\n",
              "      <td>5.39</td>\n",
              "      <td>Ripe</td>\n",
              "      <td>16.75</td>\n",
              "      <td>3.31</td>\n",
              "      <td>13.08</td>\n",
              "      <td>137.80</td>\n",
              "      <td>2023-10-07</td>\n",
              "      <td>13.0</td>\n",
              "      <td>1150.2</td>\n",
              "      <td>2845.1</td>\n",
              "      <td>92.8</td>\n",
              "    </tr>\n",
              "    <tr>\n",
              "      <th>4</th>\n",
              "      <td>5</td>\n",
              "      <td>Red Dacca</td>\n",
              "      <td>Ecuador</td>\n",
              "      <td>2.35</td>\n",
              "      <td>Processing</td>\n",
              "      <td>5.84</td>\n",
              "      <td>Ripe</td>\n",
              "      <td>16.90</td>\n",
              "      <td>3.07</td>\n",
              "      <td>12.98</td>\n",
              "      <td>227.84</td>\n",
              "      <td>2023-10-02</td>\n",
              "      <td>4.8</td>\n",
              "      <td>526.0</td>\n",
              "      <td>2136.9</td>\n",
              "      <td>129.7</td>\n",
              "    </tr>\n",
              "  </tbody>\n",
              "</table>\n",
              "</div>\n",
              "    <div class=\"colab-df-buttons\">\n",
              "\n",
              "  <div class=\"colab-df-container\">\n",
              "    <button class=\"colab-df-convert\" onclick=\"convertToInteractive('df-156e28f3-b93c-445e-b163-daed2516fafa')\"\n",
              "            title=\"Convert this dataframe to an interactive table.\"\n",
              "            style=\"display:none;\">\n",
              "\n",
              "  <svg xmlns=\"http://www.w3.org/2000/svg\" height=\"24px\" viewBox=\"0 -960 960 960\">\n",
              "    <path d=\"M120-120v-720h720v720H120Zm60-500h600v-160H180v160Zm220 220h160v-160H400v160Zm0 220h160v-160H400v160ZM180-400h160v-160H180v160Zm440 0h160v-160H620v160ZM180-180h160v-160H180v160Zm440 0h160v-160H620v160Z\"/>\n",
              "  </svg>\n",
              "    </button>\n",
              "\n",
              "  <style>\n",
              "    .colab-df-container {\n",
              "      display:flex;\n",
              "      gap: 12px;\n",
              "    }\n",
              "\n",
              "    .colab-df-convert {\n",
              "      background-color: #E8F0FE;\n",
              "      border: none;\n",
              "      border-radius: 50%;\n",
              "      cursor: pointer;\n",
              "      display: none;\n",
              "      fill: #1967D2;\n",
              "      height: 32px;\n",
              "      padding: 0 0 0 0;\n",
              "      width: 32px;\n",
              "    }\n",
              "\n",
              "    .colab-df-convert:hover {\n",
              "      background-color: #E2EBFA;\n",
              "      box-shadow: 0px 1px 2px rgba(60, 64, 67, 0.3), 0px 1px 3px 1px rgba(60, 64, 67, 0.15);\n",
              "      fill: #174EA6;\n",
              "    }\n",
              "\n",
              "    .colab-df-buttons div {\n",
              "      margin-bottom: 4px;\n",
              "    }\n",
              "\n",
              "    [theme=dark] .colab-df-convert {\n",
              "      background-color: #3B4455;\n",
              "      fill: #D2E3FC;\n",
              "    }\n",
              "\n",
              "    [theme=dark] .colab-df-convert:hover {\n",
              "      background-color: #434B5C;\n",
              "      box-shadow: 0px 1px 3px 1px rgba(0, 0, 0, 0.15);\n",
              "      filter: drop-shadow(0px 1px 2px rgba(0, 0, 0, 0.3));\n",
              "      fill: #FFFFFF;\n",
              "    }\n",
              "  </style>\n",
              "\n",
              "    <script>\n",
              "      const buttonEl =\n",
              "        document.querySelector('#df-156e28f3-b93c-445e-b163-daed2516fafa button.colab-df-convert');\n",
              "      buttonEl.style.display =\n",
              "        google.colab.kernel.accessAllowed ? 'block' : 'none';\n",
              "\n",
              "      async function convertToInteractive(key) {\n",
              "        const element = document.querySelector('#df-156e28f3-b93c-445e-b163-daed2516fafa');\n",
              "        const dataTable =\n",
              "          await google.colab.kernel.invokeFunction('convertToInteractive',\n",
              "                                                    [key], {});\n",
              "        if (!dataTable) return;\n",
              "\n",
              "        const docLinkHtml = 'Like what you see? Visit the ' +\n",
              "          '<a target=\"_blank\" href=https://colab.research.google.com/notebooks/data_table.ipynb>data table notebook</a>'\n",
              "          + ' to learn more about interactive tables.';\n",
              "        element.innerHTML = '';\n",
              "        dataTable['output_type'] = 'display_data';\n",
              "        await google.colab.output.renderOutput(dataTable, element);\n",
              "        const docLink = document.createElement('div');\n",
              "        docLink.innerHTML = docLinkHtml;\n",
              "        element.appendChild(docLink);\n",
              "      }\n",
              "    </script>\n",
              "  </div>\n",
              "\n",
              "\n",
              "<div id=\"df-04051a48-2680-4c69-91ca-fde63e010bb8\">\n",
              "  <button class=\"colab-df-quickchart\" onclick=\"quickchart('df-04051a48-2680-4c69-91ca-fde63e010bb8')\"\n",
              "            title=\"Suggest charts\"\n",
              "            style=\"display:none;\">\n",
              "\n",
              "<svg xmlns=\"http://www.w3.org/2000/svg\" height=\"24px\"viewBox=\"0 0 24 24\"\n",
              "     width=\"24px\">\n",
              "    <g>\n",
              "        <path d=\"M19 3H5c-1.1 0-2 .9-2 2v14c0 1.1.9 2 2 2h14c1.1 0 2-.9 2-2V5c0-1.1-.9-2-2-2zM9 17H7v-7h2v7zm4 0h-2V7h2v10zm4 0h-2v-4h2v4z\"/>\n",
              "    </g>\n",
              "</svg>\n",
              "  </button>\n",
              "\n",
              "<style>\n",
              "  .colab-df-quickchart {\n",
              "      --bg-color: #E8F0FE;\n",
              "      --fill-color: #1967D2;\n",
              "      --hover-bg-color: #E2EBFA;\n",
              "      --hover-fill-color: #174EA6;\n",
              "      --disabled-fill-color: #AAA;\n",
              "      --disabled-bg-color: #DDD;\n",
              "  }\n",
              "\n",
              "  [theme=dark] .colab-df-quickchart {\n",
              "      --bg-color: #3B4455;\n",
              "      --fill-color: #D2E3FC;\n",
              "      --hover-bg-color: #434B5C;\n",
              "      --hover-fill-color: #FFFFFF;\n",
              "      --disabled-bg-color: #3B4455;\n",
              "      --disabled-fill-color: #666;\n",
              "  }\n",
              "\n",
              "  .colab-df-quickchart {\n",
              "    background-color: var(--bg-color);\n",
              "    border: none;\n",
              "    border-radius: 50%;\n",
              "    cursor: pointer;\n",
              "    display: none;\n",
              "    fill: var(--fill-color);\n",
              "    height: 32px;\n",
              "    padding: 0;\n",
              "    width: 32px;\n",
              "  }\n",
              "\n",
              "  .colab-df-quickchart:hover {\n",
              "    background-color: var(--hover-bg-color);\n",
              "    box-shadow: 0 1px 2px rgba(60, 64, 67, 0.3), 0 1px 3px 1px rgba(60, 64, 67, 0.15);\n",
              "    fill: var(--button-hover-fill-color);\n",
              "  }\n",
              "\n",
              "  .colab-df-quickchart-complete:disabled,\n",
              "  .colab-df-quickchart-complete:disabled:hover {\n",
              "    background-color: var(--disabled-bg-color);\n",
              "    fill: var(--disabled-fill-color);\n",
              "    box-shadow: none;\n",
              "  }\n",
              "\n",
              "  .colab-df-spinner {\n",
              "    border: 2px solid var(--fill-color);\n",
              "    border-color: transparent;\n",
              "    border-bottom-color: var(--fill-color);\n",
              "    animation:\n",
              "      spin 1s steps(1) infinite;\n",
              "  }\n",
              "\n",
              "  @keyframes spin {\n",
              "    0% {\n",
              "      border-color: transparent;\n",
              "      border-bottom-color: var(--fill-color);\n",
              "      border-left-color: var(--fill-color);\n",
              "    }\n",
              "    20% {\n",
              "      border-color: transparent;\n",
              "      border-left-color: var(--fill-color);\n",
              "      border-top-color: var(--fill-color);\n",
              "    }\n",
              "    30% {\n",
              "      border-color: transparent;\n",
              "      border-left-color: var(--fill-color);\n",
              "      border-top-color: var(--fill-color);\n",
              "      border-right-color: var(--fill-color);\n",
              "    }\n",
              "    40% {\n",
              "      border-color: transparent;\n",
              "      border-right-color: var(--fill-color);\n",
              "      border-top-color: var(--fill-color);\n",
              "    }\n",
              "    60% {\n",
              "      border-color: transparent;\n",
              "      border-right-color: var(--fill-color);\n",
              "    }\n",
              "    80% {\n",
              "      border-color: transparent;\n",
              "      border-right-color: var(--fill-color);\n",
              "      border-bottom-color: var(--fill-color);\n",
              "    }\n",
              "    90% {\n",
              "      border-color: transparent;\n",
              "      border-bottom-color: var(--fill-color);\n",
              "    }\n",
              "  }\n",
              "</style>\n",
              "\n",
              "  <script>\n",
              "    async function quickchart(key) {\n",
              "      const quickchartButtonEl =\n",
              "        document.querySelector('#' + key + ' button');\n",
              "      quickchartButtonEl.disabled = true;  // To prevent multiple clicks.\n",
              "      quickchartButtonEl.classList.add('colab-df-spinner');\n",
              "      try {\n",
              "        const charts = await google.colab.kernel.invokeFunction(\n",
              "            'suggestCharts', [key], {});\n",
              "      } catch (error) {\n",
              "        console.error('Error during call to suggestCharts:', error);\n",
              "      }\n",
              "      quickchartButtonEl.classList.remove('colab-df-spinner');\n",
              "      quickchartButtonEl.classList.add('colab-df-quickchart-complete');\n",
              "    }\n",
              "    (() => {\n",
              "      let quickchartButtonEl =\n",
              "        document.querySelector('#df-04051a48-2680-4c69-91ca-fde63e010bb8 button');\n",
              "      quickchartButtonEl.style.display =\n",
              "        google.colab.kernel.accessAllowed ? 'block' : 'none';\n",
              "    })();\n",
              "  </script>\n",
              "</div>\n",
              "\n",
              "    </div>\n",
              "  </div>\n"
            ],
            "application/vnd.google.colaboratory.intrinsic+json": {
              "type": "dataframe",
              "variable_name": "banana",
              "summary": "{\n  \"name\": \"banana\",\n  \"rows\": 1000,\n  \"fields\": [\n    {\n      \"column\": \"sample_id\",\n      \"properties\": {\n        \"dtype\": \"number\",\n        \"std\": 288,\n        \"min\": 1,\n        \"max\": 1000,\n        \"num_unique_values\": 1000,\n        \"samples\": [\n          522,\n          738,\n          741\n        ],\n        \"semantic_type\": \"\",\n        \"description\": \"\"\n      }\n    },\n    {\n      \"column\": \"variety\",\n      \"properties\": {\n        \"dtype\": \"category\",\n        \"num_unique_values\": 8,\n        \"samples\": [\n          \"Plantain\",\n          \"Lady Finger\",\n          \"Manzano\"\n        ],\n        \"semantic_type\": \"\",\n        \"description\": \"\"\n      }\n    },\n    {\n      \"column\": \"region\",\n      \"properties\": {\n        \"dtype\": \"category\",\n        \"num_unique_values\": 8,\n        \"samples\": [\n          \"Guatemala\",\n          \"Honduras\",\n          \"Colombia\"\n        ],\n        \"semantic_type\": \"\",\n        \"description\": \"\"\n      }\n    },\n    {\n      \"column\": \"quality_score\",\n      \"properties\": {\n        \"dtype\": \"number\",\n        \"std\": 0.5409088248094658,\n        \"min\": 0.92,\n        \"max\": 3.89,\n        \"num_unique_values\": 234,\n        \"samples\": [\n          2.08,\n          1.56,\n          3.14\n        ],\n        \"semantic_type\": \"\",\n        \"description\": \"\"\n      }\n    },\n    {\n      \"column\": \"quality_category\",\n      \"properties\": {\n        \"dtype\": \"category\",\n        \"num_unique_values\": 4,\n        \"samples\": [\n          \"Premium\",\n          \"Unripe\",\n          \"Processing\"\n        ],\n        \"semantic_type\": \"\",\n        \"description\": \"\"\n      }\n    },\n    {\n      \"column\": \"ripeness_index\",\n      \"properties\": {\n        \"dtype\": \"number\",\n        \"std\": 1.7532110940329582,\n        \"min\": 1.02,\n        \"max\": 7.0,\n        \"num_unique_values\": 481,\n        \"samples\": [\n          5.72,\n          4.69,\n          3.4\n        ],\n        \"semantic_type\": \"\",\n        \"description\": \"\"\n      }\n    },\n    {\n      \"column\": \"ripeness_category\",\n      \"properties\": {\n        \"dtype\": \"category\",\n        \"num_unique_values\": 4,\n        \"samples\": [\n          \"Ripe\",\n          \"Green\",\n          \"Turning\"\n        ],\n        \"semantic_type\": \"\",\n        \"description\": \"\"\n      }\n    },\n    {\n      \"column\": \"sugar_content_brix\",\n      \"properties\": {\n        \"dtype\": \"number\",\n        \"std\": 2.034812303926878,\n        \"min\": 15.0,\n        \"max\": 21.98,\n        \"num_unique_values\": 540,\n        \"samples\": [\n          15.32,\n          21.89,\n          15.3\n        ],\n        \"semantic_type\": \"\",\n        \"description\": \"\"\n      }\n    },\n    {\n      \"column\": \"firmness_kgf\",\n      \"properties\": {\n        \"dtype\": \"number\",\n        \"std\": 1.2892517925465876,\n        \"min\": 0.5,\n        \"max\": 5.0,\n        \"num_unique_values\": 401,\n        \"samples\": [\n          0.74,\n          2.87,\n          2.44\n        ],\n        \"semantic_type\": \"\",\n        \"description\": \"\"\n      }\n    },\n    {\n      \"column\": \"length_cm\",\n      \"properties\": {\n        \"dtype\": \"number\",\n        \"std\": 5.736318395864957,\n        \"min\": 10.0,\n        \"max\": 29.95,\n        \"num_unique_values\": 790,\n        \"samples\": [\n          22.9,\n          21.56,\n          26.2\n        ],\n        \"semantic_type\": \"\",\n        \"description\": \"\"\n      }\n    },\n    {\n      \"column\": \"weight_g\",\n      \"properties\": {\n        \"dtype\": \"number\",\n        \"std\": 49.16307314149326,\n        \"min\": 81.05,\n        \"max\": 249.89,\n        \"num_unique_values\": 971,\n        \"samples\": [\n          114.6,\n          81.47,\n          184.41\n        ],\n        \"semantic_type\": \"\",\n        \"description\": \"\"\n      }\n    },\n    {\n      \"column\": \"harvest_date\",\n      \"properties\": {\n        \"dtype\": \"object\",\n        \"num_unique_values\": 61,\n        \"samples\": [\n          \"2023-10-16\",\n          \"2023-10-06\",\n          \"2023-10-28\"\n        ],\n        \"semantic_type\": \"\",\n        \"description\": \"\"\n      }\n    },\n    {\n      \"column\": \"tree_age_years\",\n      \"properties\": {\n        \"dtype\": \"number\",\n        \"std\": 5.215554222309061,\n        \"min\": 2.0,\n        \"max\": 20.0,\n        \"num_unique_values\": 179,\n        \"samples\": [\n          5.5,\n          4.4,\n          5.7\n        ],\n        \"semantic_type\": \"\",\n        \"description\": \"\"\n      }\n    },\n    {\n      \"column\": \"altitude_m\",\n      \"properties\": {\n        \"dtype\": \"number\",\n        \"std\": 427.3728546269431,\n        \"min\": 0.4,\n        \"max\": 1498.4,\n        \"num_unique_values\": 980,\n        \"samples\": [\n          184.6,\n          509.5,\n          189.4\n        ],\n        \"semantic_type\": \"\",\n        \"description\": \"\"\n      }\n    },\n    {\n      \"column\": \"rainfall_mm\",\n      \"properties\": {\n        \"dtype\": \"number\",\n        \"std\": 564.4679120480561,\n        \"min\": 1000.5,\n        \"max\": 2992.0,\n        \"num_unique_values\": 981,\n        \"samples\": [\n          1253.1,\n          1618.6,\n          1240.5\n        ],\n        \"semantic_type\": \"\",\n        \"description\": \"\"\n      }\n    },\n    {\n      \"column\": \"soil_nitrogen_ppm\",\n      \"properties\": {\n        \"dtype\": \"number\",\n        \"std\": 53.60779430194755,\n        \"min\": 10.0,\n        \"max\": 199.9,\n        \"num_unique_values\": 767,\n        \"samples\": [\n          194.8,\n          168.7,\n          154.6\n        ],\n        \"semantic_type\": \"\",\n        \"description\": \"\"\n      }\n    }\n  ]\n}"
            }
          },
          "metadata": {},
          "execution_count": 5
        }
      ]
    },
    {
      "cell_type": "markdown",
      "source": [
        "# **Describe stats numerical columns**"
      ],
      "metadata": {
        "id": "tTQiS_i58jrh"
      }
    },
    {
      "cell_type": "code",
      "source": [
        "banana.describe().T"
      ],
      "metadata": {
        "colab": {
          "base_uri": "https://localhost:8080/",
          "height": 394
        },
        "id": "WSRTJFqx8mEc",
        "outputId": "3d3ad2fb-d937-4c8b-e00a-d44a4b77311d"
      },
      "execution_count": 6,
      "outputs": [
        {
          "output_type": "execute_result",
          "data": {
            "text/plain": [
              "                     count        mean         std      min        25%  \\\n",
              "sample_id           1000.0   500.50000  288.819436     1.00   250.7500   \n",
              "quality_score       1000.0     2.46516    0.540909     0.92     2.0900   \n",
              "ripeness_index      1000.0     4.04217    1.753211     1.02     2.4475   \n",
              "sugar_content_brix  1000.0    18.51683    2.034812    15.00    16.8275   \n",
              "firmness_kgf        1000.0     2.70684    1.289252     0.50     1.5900   \n",
              "length_cm           1000.0    19.88210    5.736318    10.00    14.9025   \n",
              "weight_g            1000.0   164.73893   49.163073    81.05   122.3975   \n",
              "tree_age_years      1000.0    10.87960    5.215554     2.00     6.3000   \n",
              "altitude_m          1000.0   723.55670  427.372855     0.40   353.9500   \n",
              "rainfall_mm         1000.0  1972.99280  564.467912  1000.50  1498.7500   \n",
              "soil_nitrogen_ppm   1000.0   104.39130   53.607794    10.00    60.1500   \n",
              "\n",
              "                         50%        75%      max  \n",
              "sample_id            500.500   750.2500  1000.00  \n",
              "quality_score          2.440     2.8500     3.89  \n",
              "ripeness_index         4.110     5.5625     7.00  \n",
              "sugar_content_brix    18.500    20.3125    21.98  \n",
              "firmness_kgf           2.680     3.8200     5.00  \n",
              "length_cm             19.890    24.8000    29.95  \n",
              "weight_g             163.365   205.7750   249.89  \n",
              "tree_age_years        10.700    15.6000    20.00  \n",
              "altitude_m           726.000  1071.7250  1498.40  \n",
              "rainfall_mm         1957.400  2431.8000  2992.00  \n",
              "soil_nitrogen_ppm    104.100   149.8500   199.90  "
            ],
            "text/html": [
              "\n",
              "  <div id=\"df-b2725887-3e9d-4487-ac45-d5aa0a403a28\" class=\"colab-df-container\">\n",
              "    <div>\n",
              "<style scoped>\n",
              "    .dataframe tbody tr th:only-of-type {\n",
              "        vertical-align: middle;\n",
              "    }\n",
              "\n",
              "    .dataframe tbody tr th {\n",
              "        vertical-align: top;\n",
              "    }\n",
              "\n",
              "    .dataframe thead th {\n",
              "        text-align: right;\n",
              "    }\n",
              "</style>\n",
              "<table border=\"1\" class=\"dataframe\">\n",
              "  <thead>\n",
              "    <tr style=\"text-align: right;\">\n",
              "      <th></th>\n",
              "      <th>count</th>\n",
              "      <th>mean</th>\n",
              "      <th>std</th>\n",
              "      <th>min</th>\n",
              "      <th>25%</th>\n",
              "      <th>50%</th>\n",
              "      <th>75%</th>\n",
              "      <th>max</th>\n",
              "    </tr>\n",
              "  </thead>\n",
              "  <tbody>\n",
              "    <tr>\n",
              "      <th>sample_id</th>\n",
              "      <td>1000.0</td>\n",
              "      <td>500.50000</td>\n",
              "      <td>288.819436</td>\n",
              "      <td>1.00</td>\n",
              "      <td>250.7500</td>\n",
              "      <td>500.500</td>\n",
              "      <td>750.2500</td>\n",
              "      <td>1000.00</td>\n",
              "    </tr>\n",
              "    <tr>\n",
              "      <th>quality_score</th>\n",
              "      <td>1000.0</td>\n",
              "      <td>2.46516</td>\n",
              "      <td>0.540909</td>\n",
              "      <td>0.92</td>\n",
              "      <td>2.0900</td>\n",
              "      <td>2.440</td>\n",
              "      <td>2.8500</td>\n",
              "      <td>3.89</td>\n",
              "    </tr>\n",
              "    <tr>\n",
              "      <th>ripeness_index</th>\n",
              "      <td>1000.0</td>\n",
              "      <td>4.04217</td>\n",
              "      <td>1.753211</td>\n",
              "      <td>1.02</td>\n",
              "      <td>2.4475</td>\n",
              "      <td>4.110</td>\n",
              "      <td>5.5625</td>\n",
              "      <td>7.00</td>\n",
              "    </tr>\n",
              "    <tr>\n",
              "      <th>sugar_content_brix</th>\n",
              "      <td>1000.0</td>\n",
              "      <td>18.51683</td>\n",
              "      <td>2.034812</td>\n",
              "      <td>15.00</td>\n",
              "      <td>16.8275</td>\n",
              "      <td>18.500</td>\n",
              "      <td>20.3125</td>\n",
              "      <td>21.98</td>\n",
              "    </tr>\n",
              "    <tr>\n",
              "      <th>firmness_kgf</th>\n",
              "      <td>1000.0</td>\n",
              "      <td>2.70684</td>\n",
              "      <td>1.289252</td>\n",
              "      <td>0.50</td>\n",
              "      <td>1.5900</td>\n",
              "      <td>2.680</td>\n",
              "      <td>3.8200</td>\n",
              "      <td>5.00</td>\n",
              "    </tr>\n",
              "    <tr>\n",
              "      <th>length_cm</th>\n",
              "      <td>1000.0</td>\n",
              "      <td>19.88210</td>\n",
              "      <td>5.736318</td>\n",
              "      <td>10.00</td>\n",
              "      <td>14.9025</td>\n",
              "      <td>19.890</td>\n",
              "      <td>24.8000</td>\n",
              "      <td>29.95</td>\n",
              "    </tr>\n",
              "    <tr>\n",
              "      <th>weight_g</th>\n",
              "      <td>1000.0</td>\n",
              "      <td>164.73893</td>\n",
              "      <td>49.163073</td>\n",
              "      <td>81.05</td>\n",
              "      <td>122.3975</td>\n",
              "      <td>163.365</td>\n",
              "      <td>205.7750</td>\n",
              "      <td>249.89</td>\n",
              "    </tr>\n",
              "    <tr>\n",
              "      <th>tree_age_years</th>\n",
              "      <td>1000.0</td>\n",
              "      <td>10.87960</td>\n",
              "      <td>5.215554</td>\n",
              "      <td>2.00</td>\n",
              "      <td>6.3000</td>\n",
              "      <td>10.700</td>\n",
              "      <td>15.6000</td>\n",
              "      <td>20.00</td>\n",
              "    </tr>\n",
              "    <tr>\n",
              "      <th>altitude_m</th>\n",
              "      <td>1000.0</td>\n",
              "      <td>723.55670</td>\n",
              "      <td>427.372855</td>\n",
              "      <td>0.40</td>\n",
              "      <td>353.9500</td>\n",
              "      <td>726.000</td>\n",
              "      <td>1071.7250</td>\n",
              "      <td>1498.40</td>\n",
              "    </tr>\n",
              "    <tr>\n",
              "      <th>rainfall_mm</th>\n",
              "      <td>1000.0</td>\n",
              "      <td>1972.99280</td>\n",
              "      <td>564.467912</td>\n",
              "      <td>1000.50</td>\n",
              "      <td>1498.7500</td>\n",
              "      <td>1957.400</td>\n",
              "      <td>2431.8000</td>\n",
              "      <td>2992.00</td>\n",
              "    </tr>\n",
              "    <tr>\n",
              "      <th>soil_nitrogen_ppm</th>\n",
              "      <td>1000.0</td>\n",
              "      <td>104.39130</td>\n",
              "      <td>53.607794</td>\n",
              "      <td>10.00</td>\n",
              "      <td>60.1500</td>\n",
              "      <td>104.100</td>\n",
              "      <td>149.8500</td>\n",
              "      <td>199.90</td>\n",
              "    </tr>\n",
              "  </tbody>\n",
              "</table>\n",
              "</div>\n",
              "    <div class=\"colab-df-buttons\">\n",
              "\n",
              "  <div class=\"colab-df-container\">\n",
              "    <button class=\"colab-df-convert\" onclick=\"convertToInteractive('df-b2725887-3e9d-4487-ac45-d5aa0a403a28')\"\n",
              "            title=\"Convert this dataframe to an interactive table.\"\n",
              "            style=\"display:none;\">\n",
              "\n",
              "  <svg xmlns=\"http://www.w3.org/2000/svg\" height=\"24px\" viewBox=\"0 -960 960 960\">\n",
              "    <path d=\"M120-120v-720h720v720H120Zm60-500h600v-160H180v160Zm220 220h160v-160H400v160Zm0 220h160v-160H400v160ZM180-400h160v-160H180v160Zm440 0h160v-160H620v160ZM180-180h160v-160H180v160Zm440 0h160v-160H620v160Z\"/>\n",
              "  </svg>\n",
              "    </button>\n",
              "\n",
              "  <style>\n",
              "    .colab-df-container {\n",
              "      display:flex;\n",
              "      gap: 12px;\n",
              "    }\n",
              "\n",
              "    .colab-df-convert {\n",
              "      background-color: #E8F0FE;\n",
              "      border: none;\n",
              "      border-radius: 50%;\n",
              "      cursor: pointer;\n",
              "      display: none;\n",
              "      fill: #1967D2;\n",
              "      height: 32px;\n",
              "      padding: 0 0 0 0;\n",
              "      width: 32px;\n",
              "    }\n",
              "\n",
              "    .colab-df-convert:hover {\n",
              "      background-color: #E2EBFA;\n",
              "      box-shadow: 0px 1px 2px rgba(60, 64, 67, 0.3), 0px 1px 3px 1px rgba(60, 64, 67, 0.15);\n",
              "      fill: #174EA6;\n",
              "    }\n",
              "\n",
              "    .colab-df-buttons div {\n",
              "      margin-bottom: 4px;\n",
              "    }\n",
              "\n",
              "    [theme=dark] .colab-df-convert {\n",
              "      background-color: #3B4455;\n",
              "      fill: #D2E3FC;\n",
              "    }\n",
              "\n",
              "    [theme=dark] .colab-df-convert:hover {\n",
              "      background-color: #434B5C;\n",
              "      box-shadow: 0px 1px 3px 1px rgba(0, 0, 0, 0.15);\n",
              "      filter: drop-shadow(0px 1px 2px rgba(0, 0, 0, 0.3));\n",
              "      fill: #FFFFFF;\n",
              "    }\n",
              "  </style>\n",
              "\n",
              "    <script>\n",
              "      const buttonEl =\n",
              "        document.querySelector('#df-b2725887-3e9d-4487-ac45-d5aa0a403a28 button.colab-df-convert');\n",
              "      buttonEl.style.display =\n",
              "        google.colab.kernel.accessAllowed ? 'block' : 'none';\n",
              "\n",
              "      async function convertToInteractive(key) {\n",
              "        const element = document.querySelector('#df-b2725887-3e9d-4487-ac45-d5aa0a403a28');\n",
              "        const dataTable =\n",
              "          await google.colab.kernel.invokeFunction('convertToInteractive',\n",
              "                                                    [key], {});\n",
              "        if (!dataTable) return;\n",
              "\n",
              "        const docLinkHtml = 'Like what you see? Visit the ' +\n",
              "          '<a target=\"_blank\" href=https://colab.research.google.com/notebooks/data_table.ipynb>data table notebook</a>'\n",
              "          + ' to learn more about interactive tables.';\n",
              "        element.innerHTML = '';\n",
              "        dataTable['output_type'] = 'display_data';\n",
              "        await google.colab.output.renderOutput(dataTable, element);\n",
              "        const docLink = document.createElement('div');\n",
              "        docLink.innerHTML = docLinkHtml;\n",
              "        element.appendChild(docLink);\n",
              "      }\n",
              "    </script>\n",
              "  </div>\n",
              "\n",
              "\n",
              "<div id=\"df-007478d1-3a61-43c7-866c-0381c0c06d8b\">\n",
              "  <button class=\"colab-df-quickchart\" onclick=\"quickchart('df-007478d1-3a61-43c7-866c-0381c0c06d8b')\"\n",
              "            title=\"Suggest charts\"\n",
              "            style=\"display:none;\">\n",
              "\n",
              "<svg xmlns=\"http://www.w3.org/2000/svg\" height=\"24px\"viewBox=\"0 0 24 24\"\n",
              "     width=\"24px\">\n",
              "    <g>\n",
              "        <path d=\"M19 3H5c-1.1 0-2 .9-2 2v14c0 1.1.9 2 2 2h14c1.1 0 2-.9 2-2V5c0-1.1-.9-2-2-2zM9 17H7v-7h2v7zm4 0h-2V7h2v10zm4 0h-2v-4h2v4z\"/>\n",
              "    </g>\n",
              "</svg>\n",
              "  </button>\n",
              "\n",
              "<style>\n",
              "  .colab-df-quickchart {\n",
              "      --bg-color: #E8F0FE;\n",
              "      --fill-color: #1967D2;\n",
              "      --hover-bg-color: #E2EBFA;\n",
              "      --hover-fill-color: #174EA6;\n",
              "      --disabled-fill-color: #AAA;\n",
              "      --disabled-bg-color: #DDD;\n",
              "  }\n",
              "\n",
              "  [theme=dark] .colab-df-quickchart {\n",
              "      --bg-color: #3B4455;\n",
              "      --fill-color: #D2E3FC;\n",
              "      --hover-bg-color: #434B5C;\n",
              "      --hover-fill-color: #FFFFFF;\n",
              "      --disabled-bg-color: #3B4455;\n",
              "      --disabled-fill-color: #666;\n",
              "  }\n",
              "\n",
              "  .colab-df-quickchart {\n",
              "    background-color: var(--bg-color);\n",
              "    border: none;\n",
              "    border-radius: 50%;\n",
              "    cursor: pointer;\n",
              "    display: none;\n",
              "    fill: var(--fill-color);\n",
              "    height: 32px;\n",
              "    padding: 0;\n",
              "    width: 32px;\n",
              "  }\n",
              "\n",
              "  .colab-df-quickchart:hover {\n",
              "    background-color: var(--hover-bg-color);\n",
              "    box-shadow: 0 1px 2px rgba(60, 64, 67, 0.3), 0 1px 3px 1px rgba(60, 64, 67, 0.15);\n",
              "    fill: var(--button-hover-fill-color);\n",
              "  }\n",
              "\n",
              "  .colab-df-quickchart-complete:disabled,\n",
              "  .colab-df-quickchart-complete:disabled:hover {\n",
              "    background-color: var(--disabled-bg-color);\n",
              "    fill: var(--disabled-fill-color);\n",
              "    box-shadow: none;\n",
              "  }\n",
              "\n",
              "  .colab-df-spinner {\n",
              "    border: 2px solid var(--fill-color);\n",
              "    border-color: transparent;\n",
              "    border-bottom-color: var(--fill-color);\n",
              "    animation:\n",
              "      spin 1s steps(1) infinite;\n",
              "  }\n",
              "\n",
              "  @keyframes spin {\n",
              "    0% {\n",
              "      border-color: transparent;\n",
              "      border-bottom-color: var(--fill-color);\n",
              "      border-left-color: var(--fill-color);\n",
              "    }\n",
              "    20% {\n",
              "      border-color: transparent;\n",
              "      border-left-color: var(--fill-color);\n",
              "      border-top-color: var(--fill-color);\n",
              "    }\n",
              "    30% {\n",
              "      border-color: transparent;\n",
              "      border-left-color: var(--fill-color);\n",
              "      border-top-color: var(--fill-color);\n",
              "      border-right-color: var(--fill-color);\n",
              "    }\n",
              "    40% {\n",
              "      border-color: transparent;\n",
              "      border-right-color: var(--fill-color);\n",
              "      border-top-color: var(--fill-color);\n",
              "    }\n",
              "    60% {\n",
              "      border-color: transparent;\n",
              "      border-right-color: var(--fill-color);\n",
              "    }\n",
              "    80% {\n",
              "      border-color: transparent;\n",
              "      border-right-color: var(--fill-color);\n",
              "      border-bottom-color: var(--fill-color);\n",
              "    }\n",
              "    90% {\n",
              "      border-color: transparent;\n",
              "      border-bottom-color: var(--fill-color);\n",
              "    }\n",
              "  }\n",
              "</style>\n",
              "\n",
              "  <script>\n",
              "    async function quickchart(key) {\n",
              "      const quickchartButtonEl =\n",
              "        document.querySelector('#' + key + ' button');\n",
              "      quickchartButtonEl.disabled = true;  // To prevent multiple clicks.\n",
              "      quickchartButtonEl.classList.add('colab-df-spinner');\n",
              "      try {\n",
              "        const charts = await google.colab.kernel.invokeFunction(\n",
              "            'suggestCharts', [key], {});\n",
              "      } catch (error) {\n",
              "        console.error('Error during call to suggestCharts:', error);\n",
              "      }\n",
              "      quickchartButtonEl.classList.remove('colab-df-spinner');\n",
              "      quickchartButtonEl.classList.add('colab-df-quickchart-complete');\n",
              "    }\n",
              "    (() => {\n",
              "      let quickchartButtonEl =\n",
              "        document.querySelector('#df-007478d1-3a61-43c7-866c-0381c0c06d8b button');\n",
              "      quickchartButtonEl.style.display =\n",
              "        google.colab.kernel.accessAllowed ? 'block' : 'none';\n",
              "    })();\n",
              "  </script>\n",
              "</div>\n",
              "\n",
              "    </div>\n",
              "  </div>\n"
            ],
            "application/vnd.google.colaboratory.intrinsic+json": {
              "type": "dataframe",
              "summary": "{\n  \"name\": \"banana\",\n  \"rows\": 11,\n  \"fields\": [\n    {\n      \"column\": \"count\",\n      \"properties\": {\n        \"dtype\": \"number\",\n        \"std\": 0.0,\n        \"min\": 1000.0,\n        \"max\": 1000.0,\n        \"num_unique_values\": 1,\n        \"samples\": [\n          1000.0\n        ],\n        \"semantic_type\": \"\",\n        \"description\": \"\"\n      }\n    },\n    {\n      \"column\": \"mean\",\n      \"properties\": {\n        \"dtype\": \"number\",\n        \"std\": 598.0188571753906,\n        \"min\": 2.46516,\n        \"max\": 1972.9927999999998,\n        \"num_unique_values\": 11,\n        \"samples\": [\n          19.8821\n        ],\n        \"semantic_type\": \"\",\n        \"description\": \"\"\n      }\n    },\n    {\n      \"column\": \"std\",\n      \"properties\": {\n        \"dtype\": \"number\",\n        \"std\": 202.9448747671807,\n        \"min\": 0.5409088248094658,\n        \"max\": 564.4679120480561,\n        \"num_unique_values\": 11,\n        \"samples\": [\n          5.736318395864957\n        ],\n        \"semantic_type\": \"\",\n        \"description\": \"\"\n      }\n    },\n    {\n      \"column\": \"min\",\n      \"properties\": {\n        \"dtype\": \"number\",\n        \"std\": 298.91103617510134,\n        \"min\": 0.4,\n        \"max\": 1000.5,\n        \"num_unique_values\": 10,\n        \"samples\": [\n          0.4\n        ],\n        \"semantic_type\": \"\",\n        \"description\": \"\"\n      }\n    },\n    {\n      \"column\": \"25%\",\n      \"properties\": {\n        \"dtype\": \"number\",\n        \"std\": 442.71465915058445,\n        \"min\": 1.59,\n        \"max\": 1498.75,\n        \"num_unique_values\": 11,\n        \"samples\": [\n          14.9025\n        ],\n        \"semantic_type\": \"\",\n        \"description\": \"\"\n      }\n    },\n    {\n      \"column\": \"50%\",\n      \"properties\": {\n        \"dtype\": \"number\",\n        \"std\": 593.9352027593735,\n        \"min\": 2.44,\n        \"max\": 1957.4,\n        \"num_unique_values\": 11,\n        \"samples\": [\n          19.89\n        ],\n        \"semantic_type\": \"\",\n        \"description\": \"\"\n      }\n    },\n    {\n      \"column\": \"75%\",\n      \"properties\": {\n        \"dtype\": \"number\",\n        \"std\": 754.8589703219856,\n        \"min\": 2.85,\n        \"max\": 2431.8,\n        \"num_unique_values\": 11,\n        \"samples\": [\n          24.799999999999997\n        ],\n        \"semantic_type\": \"\",\n        \"description\": \"\"\n      }\n    },\n    {\n      \"column\": \"max\",\n      \"properties\": {\n        \"dtype\": \"number\",\n        \"std\": 948.5876805594152,\n        \"min\": 3.89,\n        \"max\": 2992.0,\n        \"num_unique_values\": 11,\n        \"samples\": [\n          29.95\n        ],\n        \"semantic_type\": \"\",\n        \"description\": \"\"\n      }\n    }\n  ]\n}"
            }
          },
          "metadata": {},
          "execution_count": 6
        }
      ]
    },
    {
      "cell_type": "markdown",
      "source": [
        "# **Describing categorical columns**"
      ],
      "metadata": {
        "id": "VWwNtMrU8wdz"
      }
    },
    {
      "cell_type": "code",
      "source": [
        "banana.describe(include='object').T"
      ],
      "metadata": {
        "colab": {
          "base_uri": "https://localhost:8080/",
          "height": 206
        },
        "id": "HW__bZlE8z5g",
        "outputId": "038591b0-f41a-46a9-8249-cef20b5ed171"
      },
      "execution_count": 7,
      "outputs": [
        {
          "output_type": "execute_result",
          "data": {
            "text/plain": [
              "                  count unique         top freq\n",
              "variety            1000      8    Plantain  146\n",
              "region             1000      8     Ecuador  137\n",
              "quality_category   1000      4  Processing  506\n",
              "ripeness_category  1000      4        Ripe  349\n",
              "harvest_date       1000     61  2023-10-30   28"
            ],
            "text/html": [
              "\n",
              "  <div id=\"df-f07463e6-114c-4882-9418-dc2d19427518\" class=\"colab-df-container\">\n",
              "    <div>\n",
              "<style scoped>\n",
              "    .dataframe tbody tr th:only-of-type {\n",
              "        vertical-align: middle;\n",
              "    }\n",
              "\n",
              "    .dataframe tbody tr th {\n",
              "        vertical-align: top;\n",
              "    }\n",
              "\n",
              "    .dataframe thead th {\n",
              "        text-align: right;\n",
              "    }\n",
              "</style>\n",
              "<table border=\"1\" class=\"dataframe\">\n",
              "  <thead>\n",
              "    <tr style=\"text-align: right;\">\n",
              "      <th></th>\n",
              "      <th>count</th>\n",
              "      <th>unique</th>\n",
              "      <th>top</th>\n",
              "      <th>freq</th>\n",
              "    </tr>\n",
              "  </thead>\n",
              "  <tbody>\n",
              "    <tr>\n",
              "      <th>variety</th>\n",
              "      <td>1000</td>\n",
              "      <td>8</td>\n",
              "      <td>Plantain</td>\n",
              "      <td>146</td>\n",
              "    </tr>\n",
              "    <tr>\n",
              "      <th>region</th>\n",
              "      <td>1000</td>\n",
              "      <td>8</td>\n",
              "      <td>Ecuador</td>\n",
              "      <td>137</td>\n",
              "    </tr>\n",
              "    <tr>\n",
              "      <th>quality_category</th>\n",
              "      <td>1000</td>\n",
              "      <td>4</td>\n",
              "      <td>Processing</td>\n",
              "      <td>506</td>\n",
              "    </tr>\n",
              "    <tr>\n",
              "      <th>ripeness_category</th>\n",
              "      <td>1000</td>\n",
              "      <td>4</td>\n",
              "      <td>Ripe</td>\n",
              "      <td>349</td>\n",
              "    </tr>\n",
              "    <tr>\n",
              "      <th>harvest_date</th>\n",
              "      <td>1000</td>\n",
              "      <td>61</td>\n",
              "      <td>2023-10-30</td>\n",
              "      <td>28</td>\n",
              "    </tr>\n",
              "  </tbody>\n",
              "</table>\n",
              "</div>\n",
              "    <div class=\"colab-df-buttons\">\n",
              "\n",
              "  <div class=\"colab-df-container\">\n",
              "    <button class=\"colab-df-convert\" onclick=\"convertToInteractive('df-f07463e6-114c-4882-9418-dc2d19427518')\"\n",
              "            title=\"Convert this dataframe to an interactive table.\"\n",
              "            style=\"display:none;\">\n",
              "\n",
              "  <svg xmlns=\"http://www.w3.org/2000/svg\" height=\"24px\" viewBox=\"0 -960 960 960\">\n",
              "    <path d=\"M120-120v-720h720v720H120Zm60-500h600v-160H180v160Zm220 220h160v-160H400v160Zm0 220h160v-160H400v160ZM180-400h160v-160H180v160Zm440 0h160v-160H620v160ZM180-180h160v-160H180v160Zm440 0h160v-160H620v160Z\"/>\n",
              "  </svg>\n",
              "    </button>\n",
              "\n",
              "  <style>\n",
              "    .colab-df-container {\n",
              "      display:flex;\n",
              "      gap: 12px;\n",
              "    }\n",
              "\n",
              "    .colab-df-convert {\n",
              "      background-color: #E8F0FE;\n",
              "      border: none;\n",
              "      border-radius: 50%;\n",
              "      cursor: pointer;\n",
              "      display: none;\n",
              "      fill: #1967D2;\n",
              "      height: 32px;\n",
              "      padding: 0 0 0 0;\n",
              "      width: 32px;\n",
              "    }\n",
              "\n",
              "    .colab-df-convert:hover {\n",
              "      background-color: #E2EBFA;\n",
              "      box-shadow: 0px 1px 2px rgba(60, 64, 67, 0.3), 0px 1px 3px 1px rgba(60, 64, 67, 0.15);\n",
              "      fill: #174EA6;\n",
              "    }\n",
              "\n",
              "    .colab-df-buttons div {\n",
              "      margin-bottom: 4px;\n",
              "    }\n",
              "\n",
              "    [theme=dark] .colab-df-convert {\n",
              "      background-color: #3B4455;\n",
              "      fill: #D2E3FC;\n",
              "    }\n",
              "\n",
              "    [theme=dark] .colab-df-convert:hover {\n",
              "      background-color: #434B5C;\n",
              "      box-shadow: 0px 1px 3px 1px rgba(0, 0, 0, 0.15);\n",
              "      filter: drop-shadow(0px 1px 2px rgba(0, 0, 0, 0.3));\n",
              "      fill: #FFFFFF;\n",
              "    }\n",
              "  </style>\n",
              "\n",
              "    <script>\n",
              "      const buttonEl =\n",
              "        document.querySelector('#df-f07463e6-114c-4882-9418-dc2d19427518 button.colab-df-convert');\n",
              "      buttonEl.style.display =\n",
              "        google.colab.kernel.accessAllowed ? 'block' : 'none';\n",
              "\n",
              "      async function convertToInteractive(key) {\n",
              "        const element = document.querySelector('#df-f07463e6-114c-4882-9418-dc2d19427518');\n",
              "        const dataTable =\n",
              "          await google.colab.kernel.invokeFunction('convertToInteractive',\n",
              "                                                    [key], {});\n",
              "        if (!dataTable) return;\n",
              "\n",
              "        const docLinkHtml = 'Like what you see? Visit the ' +\n",
              "          '<a target=\"_blank\" href=https://colab.research.google.com/notebooks/data_table.ipynb>data table notebook</a>'\n",
              "          + ' to learn more about interactive tables.';\n",
              "        element.innerHTML = '';\n",
              "        dataTable['output_type'] = 'display_data';\n",
              "        await google.colab.output.renderOutput(dataTable, element);\n",
              "        const docLink = document.createElement('div');\n",
              "        docLink.innerHTML = docLinkHtml;\n",
              "        element.appendChild(docLink);\n",
              "      }\n",
              "    </script>\n",
              "  </div>\n",
              "\n",
              "\n",
              "<div id=\"df-bc2c5dac-16a7-43e9-bb99-f9d4263e29c1\">\n",
              "  <button class=\"colab-df-quickchart\" onclick=\"quickchart('df-bc2c5dac-16a7-43e9-bb99-f9d4263e29c1')\"\n",
              "            title=\"Suggest charts\"\n",
              "            style=\"display:none;\">\n",
              "\n",
              "<svg xmlns=\"http://www.w3.org/2000/svg\" height=\"24px\"viewBox=\"0 0 24 24\"\n",
              "     width=\"24px\">\n",
              "    <g>\n",
              "        <path d=\"M19 3H5c-1.1 0-2 .9-2 2v14c0 1.1.9 2 2 2h14c1.1 0 2-.9 2-2V5c0-1.1-.9-2-2-2zM9 17H7v-7h2v7zm4 0h-2V7h2v10zm4 0h-2v-4h2v4z\"/>\n",
              "    </g>\n",
              "</svg>\n",
              "  </button>\n",
              "\n",
              "<style>\n",
              "  .colab-df-quickchart {\n",
              "      --bg-color: #E8F0FE;\n",
              "      --fill-color: #1967D2;\n",
              "      --hover-bg-color: #E2EBFA;\n",
              "      --hover-fill-color: #174EA6;\n",
              "      --disabled-fill-color: #AAA;\n",
              "      --disabled-bg-color: #DDD;\n",
              "  }\n",
              "\n",
              "  [theme=dark] .colab-df-quickchart {\n",
              "      --bg-color: #3B4455;\n",
              "      --fill-color: #D2E3FC;\n",
              "      --hover-bg-color: #434B5C;\n",
              "      --hover-fill-color: #FFFFFF;\n",
              "      --disabled-bg-color: #3B4455;\n",
              "      --disabled-fill-color: #666;\n",
              "  }\n",
              "\n",
              "  .colab-df-quickchart {\n",
              "    background-color: var(--bg-color);\n",
              "    border: none;\n",
              "    border-radius: 50%;\n",
              "    cursor: pointer;\n",
              "    display: none;\n",
              "    fill: var(--fill-color);\n",
              "    height: 32px;\n",
              "    padding: 0;\n",
              "    width: 32px;\n",
              "  }\n",
              "\n",
              "  .colab-df-quickchart:hover {\n",
              "    background-color: var(--hover-bg-color);\n",
              "    box-shadow: 0 1px 2px rgba(60, 64, 67, 0.3), 0 1px 3px 1px rgba(60, 64, 67, 0.15);\n",
              "    fill: var(--button-hover-fill-color);\n",
              "  }\n",
              "\n",
              "  .colab-df-quickchart-complete:disabled,\n",
              "  .colab-df-quickchart-complete:disabled:hover {\n",
              "    background-color: var(--disabled-bg-color);\n",
              "    fill: var(--disabled-fill-color);\n",
              "    box-shadow: none;\n",
              "  }\n",
              "\n",
              "  .colab-df-spinner {\n",
              "    border: 2px solid var(--fill-color);\n",
              "    border-color: transparent;\n",
              "    border-bottom-color: var(--fill-color);\n",
              "    animation:\n",
              "      spin 1s steps(1) infinite;\n",
              "  }\n",
              "\n",
              "  @keyframes spin {\n",
              "    0% {\n",
              "      border-color: transparent;\n",
              "      border-bottom-color: var(--fill-color);\n",
              "      border-left-color: var(--fill-color);\n",
              "    }\n",
              "    20% {\n",
              "      border-color: transparent;\n",
              "      border-left-color: var(--fill-color);\n",
              "      border-top-color: var(--fill-color);\n",
              "    }\n",
              "    30% {\n",
              "      border-color: transparent;\n",
              "      border-left-color: var(--fill-color);\n",
              "      border-top-color: var(--fill-color);\n",
              "      border-right-color: var(--fill-color);\n",
              "    }\n",
              "    40% {\n",
              "      border-color: transparent;\n",
              "      border-right-color: var(--fill-color);\n",
              "      border-top-color: var(--fill-color);\n",
              "    }\n",
              "    60% {\n",
              "      border-color: transparent;\n",
              "      border-right-color: var(--fill-color);\n",
              "    }\n",
              "    80% {\n",
              "      border-color: transparent;\n",
              "      border-right-color: var(--fill-color);\n",
              "      border-bottom-color: var(--fill-color);\n",
              "    }\n",
              "    90% {\n",
              "      border-color: transparent;\n",
              "      border-bottom-color: var(--fill-color);\n",
              "    }\n",
              "  }\n",
              "</style>\n",
              "\n",
              "  <script>\n",
              "    async function quickchart(key) {\n",
              "      const quickchartButtonEl =\n",
              "        document.querySelector('#' + key + ' button');\n",
              "      quickchartButtonEl.disabled = true;  // To prevent multiple clicks.\n",
              "      quickchartButtonEl.classList.add('colab-df-spinner');\n",
              "      try {\n",
              "        const charts = await google.colab.kernel.invokeFunction(\n",
              "            'suggestCharts', [key], {});\n",
              "      } catch (error) {\n",
              "        console.error('Error during call to suggestCharts:', error);\n",
              "      }\n",
              "      quickchartButtonEl.classList.remove('colab-df-spinner');\n",
              "      quickchartButtonEl.classList.add('colab-df-quickchart-complete');\n",
              "    }\n",
              "    (() => {\n",
              "      let quickchartButtonEl =\n",
              "        document.querySelector('#df-bc2c5dac-16a7-43e9-bb99-f9d4263e29c1 button');\n",
              "      quickchartButtonEl.style.display =\n",
              "        google.colab.kernel.accessAllowed ? 'block' : 'none';\n",
              "    })();\n",
              "  </script>\n",
              "</div>\n",
              "\n",
              "    </div>\n",
              "  </div>\n"
            ],
            "application/vnd.google.colaboratory.intrinsic+json": {
              "type": "dataframe",
              "summary": "{\n  \"name\": \"banana\",\n  \"rows\": 5,\n  \"fields\": [\n    {\n      \"column\": \"count\",\n      \"properties\": {\n        \"dtype\": \"date\",\n        \"min\": \"1000\",\n        \"max\": \"1000\",\n        \"num_unique_values\": 1,\n        \"samples\": [\n          \"1000\"\n        ],\n        \"semantic_type\": \"\",\n        \"description\": \"\"\n      }\n    },\n    {\n      \"column\": \"unique\",\n      \"properties\": {\n        \"dtype\": \"date\",\n        \"min\": 4,\n        \"max\": 61,\n        \"num_unique_values\": 3,\n        \"samples\": [\n          8\n        ],\n        \"semantic_type\": \"\",\n        \"description\": \"\"\n      }\n    },\n    {\n      \"column\": \"top\",\n      \"properties\": {\n        \"dtype\": \"string\",\n        \"num_unique_values\": 5,\n        \"samples\": [\n          \"Ecuador\"\n        ],\n        \"semantic_type\": \"\",\n        \"description\": \"\"\n      }\n    },\n    {\n      \"column\": \"freq\",\n      \"properties\": {\n        \"dtype\": \"date\",\n        \"min\": \"28\",\n        \"max\": \"506\",\n        \"num_unique_values\": 5,\n        \"samples\": [\n          \"137\"\n        ],\n        \"semantic_type\": \"\",\n        \"description\": \"\"\n      }\n    }\n  ]\n}"
            }
          },
          "metadata": {},
          "execution_count": 7
        }
      ]
    },
    {
      "cell_type": "markdown",
      "source": [
        "# **Checking null values or duplicates values**"
      ],
      "metadata": {
        "id": "mOjybMUQ9Ym8"
      }
    },
    {
      "cell_type": "code",
      "source": [
        "banana.isnull().sum()"
      ],
      "metadata": {
        "colab": {
          "base_uri": "https://localhost:8080/",
          "height": 585
        },
        "id": "i9UpBmee9egE",
        "outputId": "596e6952-2d1e-48af-964e-297ac28f43d6"
      },
      "execution_count": 8,
      "outputs": [
        {
          "output_type": "execute_result",
          "data": {
            "text/plain": [
              "sample_id             0\n",
              "variety               0\n",
              "region                0\n",
              "quality_score         0\n",
              "quality_category      0\n",
              "ripeness_index        0\n",
              "ripeness_category     0\n",
              "sugar_content_brix    0\n",
              "firmness_kgf          0\n",
              "length_cm             0\n",
              "weight_g              0\n",
              "harvest_date          0\n",
              "tree_age_years        0\n",
              "altitude_m            0\n",
              "rainfall_mm           0\n",
              "soil_nitrogen_ppm     0\n",
              "dtype: int64"
            ],
            "text/html": [
              "<div>\n",
              "<style scoped>\n",
              "    .dataframe tbody tr th:only-of-type {\n",
              "        vertical-align: middle;\n",
              "    }\n",
              "\n",
              "    .dataframe tbody tr th {\n",
              "        vertical-align: top;\n",
              "    }\n",
              "\n",
              "    .dataframe thead th {\n",
              "        text-align: right;\n",
              "    }\n",
              "</style>\n",
              "<table border=\"1\" class=\"dataframe\">\n",
              "  <thead>\n",
              "    <tr style=\"text-align: right;\">\n",
              "      <th></th>\n",
              "      <th>0</th>\n",
              "    </tr>\n",
              "  </thead>\n",
              "  <tbody>\n",
              "    <tr>\n",
              "      <th>sample_id</th>\n",
              "      <td>0</td>\n",
              "    </tr>\n",
              "    <tr>\n",
              "      <th>variety</th>\n",
              "      <td>0</td>\n",
              "    </tr>\n",
              "    <tr>\n",
              "      <th>region</th>\n",
              "      <td>0</td>\n",
              "    </tr>\n",
              "    <tr>\n",
              "      <th>quality_score</th>\n",
              "      <td>0</td>\n",
              "    </tr>\n",
              "    <tr>\n",
              "      <th>quality_category</th>\n",
              "      <td>0</td>\n",
              "    </tr>\n",
              "    <tr>\n",
              "      <th>ripeness_index</th>\n",
              "      <td>0</td>\n",
              "    </tr>\n",
              "    <tr>\n",
              "      <th>ripeness_category</th>\n",
              "      <td>0</td>\n",
              "    </tr>\n",
              "    <tr>\n",
              "      <th>sugar_content_brix</th>\n",
              "      <td>0</td>\n",
              "    </tr>\n",
              "    <tr>\n",
              "      <th>firmness_kgf</th>\n",
              "      <td>0</td>\n",
              "    </tr>\n",
              "    <tr>\n",
              "      <th>length_cm</th>\n",
              "      <td>0</td>\n",
              "    </tr>\n",
              "    <tr>\n",
              "      <th>weight_g</th>\n",
              "      <td>0</td>\n",
              "    </tr>\n",
              "    <tr>\n",
              "      <th>harvest_date</th>\n",
              "      <td>0</td>\n",
              "    </tr>\n",
              "    <tr>\n",
              "      <th>tree_age_years</th>\n",
              "      <td>0</td>\n",
              "    </tr>\n",
              "    <tr>\n",
              "      <th>altitude_m</th>\n",
              "      <td>0</td>\n",
              "    </tr>\n",
              "    <tr>\n",
              "      <th>rainfall_mm</th>\n",
              "      <td>0</td>\n",
              "    </tr>\n",
              "    <tr>\n",
              "      <th>soil_nitrogen_ppm</th>\n",
              "      <td>0</td>\n",
              "    </tr>\n",
              "  </tbody>\n",
              "</table>\n",
              "</div><br><label><b>dtype:</b> int64</label>"
            ]
          },
          "metadata": {},
          "execution_count": 8
        }
      ]
    },
    {
      "cell_type": "code",
      "source": [
        "banana.duplicated().sum()"
      ],
      "metadata": {
        "colab": {
          "base_uri": "https://localhost:8080/"
        },
        "id": "DsqpE8UE9kOm",
        "outputId": "28a5e101-e0c2-454c-9074-328bbd4f5cce"
      },
      "execution_count": 9,
      "outputs": [
        {
          "output_type": "execute_result",
          "data": {
            "text/plain": [
              "0"
            ]
          },
          "metadata": {},
          "execution_count": 9
        }
      ]
    },
    {
      "cell_type": "markdown",
      "source": [
        "# **Selecting input data columns**"
      ],
      "metadata": {
        "id": "_UlhRcip9s5x"
      }
    },
    {
      "cell_type": "code",
      "source": [
        "X=banana[['variety', 'region','ripeness_index','sugar_content_brix','firmness_kgf','length_cm', 'weight_g']]\n",
        "banana.shape"
      ],
      "metadata": {
        "colab": {
          "base_uri": "https://localhost:8080/"
        },
        "id": "swHkOIeE9wc1",
        "outputId": "8e381dde-8877-42bf-dce2-e59b5a62aca2"
      },
      "execution_count": 10,
      "outputs": [
        {
          "output_type": "execute_result",
          "data": {
            "text/plain": [
              "(1000, 16)"
            ]
          },
          "metadata": {},
          "execution_count": 10
        }
      ]
    },
    {
      "cell_type": "markdown",
      "source": [
        "# **Selecting output data columns**"
      ],
      "metadata": {
        "id": "tGrOs36uCryf"
      }
    },
    {
      "cell_type": "code",
      "source": [
        "y=banana['quality_score']\n",
        "y.shape"
      ],
      "metadata": {
        "colab": {
          "base_uri": "https://localhost:8080/"
        },
        "id": "j-I5Iry-9kP4",
        "outputId": "047fafa0-9ac6-41b5-e3ba-50834d8de49e"
      },
      "execution_count": 11,
      "outputs": [
        {
          "output_type": "execute_result",
          "data": {
            "text/plain": [
              "(1000,)"
            ]
          },
          "metadata": {},
          "execution_count": 11
        }
      ]
    },
    {
      "cell_type": "markdown",
      "source": [
        "# **Spliting the data X and y**"
      ],
      "metadata": {
        "id": "YkZWUjeZESJW"
      }
    },
    {
      "cell_type": "code",
      "source": [
        "from sklearn.model_selection import train_test_split\n",
        "X_train,X_test,y_train,y_test=train_test_split(X,y,test_size=0.2,random_state=42)\n",
        "print(X_train.shape)\n",
        "print(y_train.shape)\n",
        "print(X_test.shape)\n",
        "print(y_test.shape)\n"
      ],
      "metadata": {
        "colab": {
          "base_uri": "https://localhost:8080/"
        },
        "id": "3_mjLJO4EYIM",
        "outputId": "ab959dd7-d983-4fc0-a8c5-a3317c92f39a"
      },
      "execution_count": 12,
      "outputs": [
        {
          "output_type": "stream",
          "name": "stdout",
          "text": [
            "(800, 7)\n",
            "(800,)\n",
            "(200, 7)\n",
            "(200,)\n"
          ]
        }
      ]
    },
    {
      "cell_type": "markdown",
      "source": [
        "# **Selecting numerical and categorical data column wise**"
      ],
      "metadata": {
        "id": "YiVFtOyuFVMO"
      }
    },
    {
      "cell_type": "code",
      "source": [
        "X_train_numerical=X_train.select_dtypes(include='number')\n",
        "X_test_numerical=X_test.select_dtypes(include='number')\n",
        "X_train_categorical=X_train.select_dtypes(include='object')\n",
        "X_test_categorical=X_test.select_dtypes(include='object')\n",
        "print(X_train_numerical.shape)\n",
        "print(X_test_numerical.shape)\n",
        "print(X_train_categorical.shape)\n",
        "print(X_test_categorical.shape)"
      ],
      "metadata": {
        "colab": {
          "base_uri": "https://localhost:8080/"
        },
        "id": "bmH35YklFcLs",
        "outputId": "b2087f91-9f92-4ad5-cf2e-09329b3e5f6f"
      },
      "execution_count": 13,
      "outputs": [
        {
          "output_type": "stream",
          "name": "stdout",
          "text": [
            "(800, 5)\n",
            "(200, 5)\n",
            "(800, 2)\n",
            "(200, 2)\n"
          ]
        }
      ]
    },
    {
      "cell_type": "markdown",
      "source": [
        "# **Transforming Numerical data using Standard scaler method**"
      ],
      "metadata": {
        "id": "OgkcKgK0Gg2q"
      }
    },
    {
      "cell_type": "code",
      "source": [
        "from sklearn.preprocessing import StandardScaler\n",
        "scaler=StandardScaler()\n",
        "X_train_numerical_transform=scaler.fit_transform(X_train_numerical)\n",
        "X_test_numerical_transform=scaler.fit_transform(X_test_numerical)\n",
        "print(X_train_numerical_transform.shape)\n",
        "print(X_test_numerical_transform.shape)"
      ],
      "metadata": {
        "colab": {
          "base_uri": "https://localhost:8080/"
        },
        "id": "QLmZ6zn-GxTM",
        "outputId": "7c08e847-a27c-480e-8cc3-fc91f7e1583d"
      },
      "execution_count": 14,
      "outputs": [
        {
          "output_type": "stream",
          "name": "stdout",
          "text": [
            "(800, 5)\n",
            "(200, 5)\n"
          ]
        }
      ]
    },
    {
      "cell_type": "markdown",
      "source": [
        "# **Transforming Categorical data using OrdinalEncoder**"
      ],
      "metadata": {
        "id": "mn7_L9YvH53I"
      }
    },
    {
      "cell_type": "code",
      "source": [
        "from sklearn.preprocessing import OrdinalEncoder\n",
        "coder=OrdinalEncoder()\n",
        "X_train_categorical_transform=coder.fit_transform(X_train_categorical)\n",
        "X_test_categorical_transform=coder.fit_transform(X_test_categorical)\n",
        "print(X_train_categorical_transform.shape)\n",
        "print(X_test_categorical_transform.shape)"
      ],
      "metadata": {
        "colab": {
          "base_uri": "https://localhost:8080/"
        },
        "id": "bT49ks8mIX7j",
        "outputId": "a652dde1-d9f4-4907-e1fb-35235b3be65a"
      },
      "execution_count": 15,
      "outputs": [
        {
          "output_type": "stream",
          "name": "stdout",
          "text": [
            "(800, 2)\n",
            "(200, 2)\n"
          ]
        }
      ]
    },
    {
      "cell_type": "markdown",
      "source": [
        "# **Concatenate**"
      ],
      "metadata": {
        "id": "hMW-b6ZQQgUm"
      }
    },
    {
      "cell_type": "code",
      "source": [
        "X_train_transform=np.concatenate([X_train_numerical_transform,X_train_categorical_transform],axis=1)\n",
        "X_test_transform=np.concatenate([X_test_numerical_transform,X_test_categorical_transform],axis=1)\n",
        "print(X_train_transform.shape)\n",
        "print(X_test_transform.shape)"
      ],
      "metadata": {
        "colab": {
          "base_uri": "https://localhost:8080/"
        },
        "id": "lR1q7qaXQjET",
        "outputId": "4a1ab768-c543-4959-cf2a-8c0f9e37eb62"
      },
      "execution_count": 16,
      "outputs": [
        {
          "output_type": "stream",
          "name": "stdout",
          "text": [
            "(800, 7)\n",
            "(200, 7)\n"
          ]
        }
      ]
    },
    {
      "cell_type": "markdown",
      "source": [
        "# **Building Ml Models**"
      ],
      "metadata": {
        "id": "YXLPQ54_OsU4"
      }
    },
    {
      "cell_type": "markdown",
      "source": [
        "## **k-nearest neighbor**"
      ],
      "metadata": {
        "id": "jkxHZJJCTg8N"
      }
    },
    {
      "cell_type": "code",
      "source": [
        "from sklearn.neighbors import KNeighborsRegressor\n",
        "from sklearn.metrics import root_mean_squared_error\n",
        "from sklearn.metrics import r2_score\n",
        "knn_model=KNeighborsRegressor()\n",
        "knn_model.fit(X_train_transform,y_train)\n",
        "y_predict=knn_model.predict(X_test_transform)\n",
        "score1=root_mean_squared_error(y_test,y_predict)\n",
        "score2=r2_score(y_test,y_predict)\n",
        "print(f'The accuracy score of knn algorithm for acuracy_score validation is : {score1}')\n",
        "print('\\n')\n",
        "print(f'The accuracy score of knn algorithm for re_score validation is :{score2}')"
      ],
      "metadata": {
        "colab": {
          "base_uri": "https://localhost:8080/"
        },
        "id": "529S6-afOx4B",
        "outputId": "54ebd41a-ac75-4cc0-82bb-7517dcf61bce"
      },
      "execution_count": 34,
      "outputs": [
        {
          "output_type": "stream",
          "name": "stdout",
          "text": [
            "The accuracy score of knn algorithm for acuracy_score validation is : 0.2161361607875924\n",
            "\n",
            "\n",
            "The accuracy score of knn algorithm for re_score validation is :0.8448262300274747\n"
          ]
        }
      ]
    },
    {
      "cell_type": "markdown",
      "source": [
        "# **Decision Tree Classifier**"
      ],
      "metadata": {
        "id": "k89kRHIi9O52"
      }
    },
    {
      "cell_type": "code",
      "source": [
        "from sklearn.tree import DecisionTreeRegressor\n",
        "from sklearn.metrics import root_mean_squared_error\n",
        "from sklearn.metrics import r2_score\n",
        "decision_model=DecisionTreeRegressor()\n",
        "decision_model.fit(X_train_transform,y_train)\n",
        "y_predict=decision_model.predict(X_test_transform)\n",
        "score1=root_mean_squared_error(y_test,y_predict)\n",
        "score2=r2_score(y_test,y_predict)\n",
        "print(f'The accuracy score of Decision Tree classsifier using MSE validation  is :{score1}')\n",
        "print('\\n')\n",
        "print(f'The accuracy score of Decision Tree classifier using r2 score is : {score2}')"
      ],
      "metadata": {
        "colab": {
          "base_uri": "https://localhost:8080/"
        },
        "id": "Qd44obF7-hY0",
        "outputId": "4c3399a4-8878-4681-ee00-41daecb98146"
      },
      "execution_count": 35,
      "outputs": [
        {
          "output_type": "stream",
          "name": "stdout",
          "text": [
            "The accuracy score of Decision Tree classsifier using MSE validation  is :0.1668652150689292\n",
            "\n",
            "\n",
            "The accuracy score of Decision Tree classifier using r2 score is : 0.9075099379316082\n"
          ]
        }
      ]
    },
    {
      "cell_type": "markdown",
      "source": [
        "# **Logistic Regression**"
      ],
      "metadata": {
        "id": "QtCTEmG2Eld3"
      }
    },
    {
      "cell_type": "code",
      "source": [
        "from sklearn.linear_model import LinearRegression\n",
        "from sklearn.metrics import root_mean_squared_error\n",
        "from sklearn.metrics import r2_score\n",
        "regression_model=LinearRegression()\n",
        "regression_model.fit(X_train_transform,y_train)\n",
        "y_predict=regression_model.predict(X_test_transform)\n",
        "score1=root_mean_squared_error(y_test,y_predict)\n",
        "score2=r2_score(y_test,y_predict)\n",
        "print(f'The accuracy score of Logistic Regression is :{score1}')\n",
        "print('\\n')\n",
        "print(f'The accuracy score of Logistic Regression for r2_score validation metrics is :{score2}')"
      ],
      "metadata": {
        "colab": {
          "base_uri": "https://localhost:8080/"
        },
        "id": "1-co4mbuEpjy",
        "outputId": "7f366886-1635-4785-bfd0-809b36e46fa0"
      },
      "execution_count": 40,
      "outputs": [
        {
          "output_type": "stream",
          "name": "stdout",
          "text": [
            "The accuracy score of Logistic Regression is :0.0856107764499139\n",
            "\n",
            "\n",
            "The accuracy score of Logistic Regression for r2_score validation metrics is :0.975654409227677\n"
          ]
        }
      ]
    },
    {
      "cell_type": "markdown",
      "source": [
        "# **Random Forest**"
      ],
      "metadata": {
        "id": "KCH51jaVHm2D"
      }
    },
    {
      "cell_type": "code",
      "source": [
        "from sklearn.ensemble import RandomForestRegressor\n",
        "from sklearn.metrics import root_mean_squared_error\n",
        "from sklearn.metrics import r2_score\n",
        "forest_model=RandomForestRegressor()\n",
        "forest_model.fit(X_train_transform,y_train)\n",
        "y_predict=forest_model.predict(X_test_transform)\n",
        "score1=root_mean_squared_error(y_test,y_predict)\n",
        "score2=r2_score(y_test,y_predict)\n",
        "print(f'The accuracy score of Random Forest aglorithm is : {score1}')\n",
        "print('\\n')\n",
        "print(f'The accuracy score of Random Forest algorithm is :{score2}')"
      ],
      "metadata": {
        "colab": {
          "base_uri": "https://localhost:8080/"
        },
        "id": "kyrtM4RpHpVT",
        "outputId": "ad94e4b0-d384-4b95-f4ab-eb3b71f8138c"
      },
      "execution_count": 44,
      "outputs": [
        {
          "output_type": "stream",
          "name": "stdout",
          "text": [
            "The accuracy score of Random Forest aglorithm is : 0.11011502940107692\n",
            "\n",
            "\n",
            "The accuracu score of Random Forest algorithm is :0.9597230436843809\n"
          ]
        }
      ]
    },
    {
      "cell_type": "markdown",
      "source": [
        "# **Ada Boost**"
      ],
      "metadata": {
        "id": "_wetJlL-KCDl"
      }
    },
    {
      "cell_type": "code",
      "source": [
        "from sklearn.ensemble import AdaBoostRegressor\n",
        "from sklearn.metrics import root_mean_squared_error\n",
        "from sklearn.metrics import r2_score\n",
        "ada_model=AdaBoostRegressor()\n",
        "ada_model.fit(X_train_transform,y_train)\n",
        "y_predict=ada_model.predict(X_test_transform)\n",
        "score1=root_mean_squared_error(y_test,y_predict)\n",
        "score2=r2_score(y_test,y_predict)\n",
        "print(f'The accuracy score of Ada boost algorithm is : {score1}')\n",
        "print('\\n')\n",
        "print(f'The accuracy score of Ada boost algorithm is : {score2}')"
      ],
      "metadata": {
        "colab": {
          "base_uri": "https://localhost:8080/"
        },
        "id": "Utwhk4uzKLZA",
        "outputId": "e0b17a9f-5f9a-4b74-c8a2-4a0620a259e1"
      },
      "execution_count": 49,
      "outputs": [
        {
          "output_type": "stream",
          "name": "stdout",
          "text": [
            "The accuracy score of Ada boost algorithm is : 0.16042270765460118\n",
            "\n",
            "\n",
            "The accuracy score of Ada boost algorithm is : 0.9145139736551684\n"
          ]
        }
      ]
    },
    {
      "cell_type": "markdown",
      "source": [
        "# **Extreme Boosting**"
      ],
      "metadata": {
        "id": "mQ0ilbsaMvw3"
      }
    },
    {
      "cell_type": "code",
      "source": [
        "from sklearn.ensemble import GradientBoostingRegressor\n",
        "from sklearn.metrics import root_mean_squared_error\n",
        "from sklearn.metrics import r2_score\n",
        "ada_model=GradientBoostingRegressor()\n",
        "ada_model.fit(X_train_transform,y_train)\n",
        "y_predict=ada_model.predict(X_test_transform)\n",
        "score1=root_mean_squared_error(y_test,y_predict)\n",
        "score2=r2_score(y_test,y_predict)\n",
        "print(f'The accuracy score of exxtreme boost algorithm is : {score1}')\n",
        "print('\\n')\n",
        "print(f'The accuracy score of extreme boost algorithm is : {score2}')"
      ],
      "metadata": {
        "colab": {
          "base_uri": "https://localhost:8080/"
        },
        "id": "7_UnRqe5MxO3",
        "outputId": "0936e92a-eb34-44ad-b564-92f456b9c02f"
      },
      "execution_count": 51,
      "outputs": [
        {
          "output_type": "stream",
          "name": "stdout",
          "text": [
            "The accuracy score of exxtreme boost algorithm is : 0.0754065208633561\n",
            "\n",
            "\n",
            "The accuracy score of extreme boost algorithm is : 0.9811122053242316\n"
          ]
        }
      ]
    },
    {
      "cell_type": "markdown",
      "source": [
        "# **Conclusion**\n",
        "\n",
        "\n",
        "\n",
        "*   Among all the algorithms the best algorithm is\n",
        "*   Logistic Regression scored 85 percentage of accuracy for root_mean_squared_error validation metrics\n",
        "\n",
        "\n",
        "*  Extreme boost algorithm is scored  : 98 percentage accuracy for r2 score for metrics validation\n",
        "\n",
        "\n"
      ],
      "metadata": {
        "id": "8T4eAgpfNVLg"
      }
    }
  ]
}